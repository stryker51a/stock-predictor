{
 "cells": [
  {
   "cell_type": "code",
   "execution_count": 2,
   "metadata": {
    "collapsed": true
   },
   "outputs": [],
   "source": [
    "import yfinance as yf\n",
    "import pandas as pd\n",
    "from datetime import datetime, time, timedelta\n",
    "from pytz import timezone"
   ]
  },
  {
   "cell_type": "code",
   "execution_count": 3,
   "outputs": [],
   "source": [
    "# Constants\n",
    "TICKER = \"TSLA\"\n",
    "# START = \"2017-01-01\"\n",
    "# END = \"2017-04-30\"\n",
    "\n",
    "# Stock Market Info\n",
    "STOCK_MARKET_TZ = timezone('US/Eastern')\n",
    "STOCK_MARKET_OPENS = time(hour=9, minute=30)\n",
    "STOCK_MARKET_CLOSES = time(hour=4, minute=0)\n",
    "\n",
    "# File Names\n",
    "# ticker_raw_file_name = f\"{TICKER}_raw_{START}-{END}.csv\"\n",
    "# index_raw_file_name = f\"INDEX_raw_{START}-{END}.csv\""
   ],
   "metadata": {
    "collapsed": false,
    "pycharm": {
     "name": "#%%\n"
    }
   }
  },
  {
   "cell_type": "code",
   "execution_count": 4,
   "outputs": [],
   "source": [
    "def get_different_rows(source_df, new_df):\n",
    "    \"\"\"Returns just the rows from the new dataframe that differ from the source dataframe\"\"\"\n",
    "    merged_df = source_df.merge(new_df, indicator=True, how='outer')\n",
    "    changed_rows_df = merged_df[merged_df['_merge'] == 'right_only']\n",
    "    return changed_rows_df.drop('_merge', axis=1)"
   ],
   "metadata": {
    "collapsed": false,
    "pycharm": {
     "name": "#%%\n"
    }
   }
  },
  {
   "cell_type": "markdown",
   "source": [
    "# Interesting stuff\n",
    "We should compare the stock prices to an index. This will hopefully account for the changes that affect the entire market and are not related to Tesla news. We may want to account for the beta of the stock (\"For example, if a stock's beta is 1.2, it is assumed to be 20% more volatile than the market.\"). Tesla's historical betas can be downloaded with `https://widget3.zacks.com/data/chart/json/TSLA/beta/www.zacks.com?` (uses the S&P 500 Index) (Src: `https://www.zacks.com/stock/chart/TSLA/fundamental/beta`). If the tesla stock increases by a higher percentage than the beta times the percentage increase in the index\n",
    "\n",
    "The following request finds 489 news headlines starting from `Fri Feb 11 2022 06:02:00 GMT+0000` (25 days ago)\n",
    "Last news headline was \"Fed Rate Hikes, Zillow, Ford, Elon Musk And Stock Markets - Five Things You Must Know\"\n",
    "Most recent headline is \"Dow Jones Futures: What To Do After Today's Stock Market Dive As Russia-Ukraine War Continues\"\n",
    "`https://query1.finance.yahoo.com/v1/finance/search?q=TSLA&quotesCount=0&newsCount=0`\n",
    "\n",
    "Apparently the full query is `https://query2.finance.yahoo.com/v1/finance/search?q=apple&lang=en-US&region=US&quotesCount=6&newsCount=2&listsCount=2&enableFuzzyQuery=false&quotesQueryId=tss_match_phrase_query&multiQuoteQueryId=multi_quote_single_token_query&newsQueryId=news_cie_vespa&enableCb=true&enableNavLinks=true&enableEnhancedTrivialQuery=true&enableResearchReports=true&researchReportsCount=2`\n",
    "Src: `https://github.com/ranaroussi/yfinance/issues/837`\n",
    "\n",
    "Yahoo Finance stock price data with an interval of 1 minute can only be used with a period of 7 days. We will likely have to make one request for each week of data.\n",
    "Yahoo Finance data appears to miss some minutes. Also, we should ignore posts that are outside the trading period of 9:30 AM to 4:00 PM ET.\n",
    "\n",
    "If telsa stock is not working, we can move to cryptocurrencies (in particular a meme crypto like doge coin)\n",
    "\n",
    "Woops. \"Intraday data cannot extend last 60 days\" for Yahoo Finance"
   ],
   "metadata": {
    "collapsed": false,
    "pycharm": {
     "name": "#%% md\n"
    }
   }
  },
  {
   "cell_type": "code",
   "execution_count": 4,
   "outputs": [],
   "source": [
    "# Get each stock ticker\n",
    "stock = yf.Ticker(TICKER)\n",
    "index = yf.Ticker(\"SNP\")"
   ],
   "metadata": {
    "collapsed": false,
    "pycharm": {
     "name": "#%%\n"
    }
   }
  },
  {
   "cell_type": "code",
   "execution_count": 5,
   "outputs": [],
   "source": [
    "def download_stock_data_old(ticker, start=None, end=None, interval=\"1m\"):\n",
    "    if interval != \"1d\":\n",
    "        now = datetime.now(STOCK_MARKET_TZ)\n",
    "\n",
    "        # max_period is how much data we can get with one request\n",
    "        # date_range is how far back we can get data from\n",
    "        if interval == \"1m\":\n",
    "            max_period = timedelta(days=7)\n",
    "            date_range = timedelta(days=30)\n",
    "        elif interval == \"2m\":\n",
    "            # Appears to be missing data\n",
    "            max_period = timedelta(days=60)\n",
    "            date_range = timedelta(days=60)\n",
    "        elif interval == \"5m\":\n",
    "            max_period = timedelta(days=60)\n",
    "            date_range = timedelta(days=60)\n",
    "        elif interval == \"15m\":\n",
    "            max_period = timedelta(days=60)\n",
    "            date_range = timedelta(days=60)\n",
    "        elif interval == \"30m\":\n",
    "            max_period = timedelta(days=60)\n",
    "            date_range = timedelta(days=60)\n",
    "        elif interval == \"60m\" or interval == \"1h\":\n",
    "            max_period = timedelta(days=730)\n",
    "            date_range = timedelta(days=730)\n",
    "        else:\n",
    "            raise ValueError(\"Interval has not been tested for max_period and date_range\")\n",
    "\n",
    "        if start is None:\n",
    "            start = now - date_range\n",
    "\n",
    "        # If the market had already opened, skip the partial day's data\n",
    "        if start.time() > STOCK_MARKET_OPENS:\n",
    "            # Rounding up skips the starting day\n",
    "            start = start.replace(hour=0, minute=0, second=0, microsecond=0) + timedelta(days=1)\n",
    "        else:\n",
    "            start = start.replace(hour=0, minute=0, second=0, microsecond=0)\n",
    "\n",
    "        if end is None:\n",
    "            end = now\n",
    "\n",
    "        # If the market has not yet closed, skip the partial day's data\n",
    "        if end.time() < STOCK_MARKET_CLOSES:\n",
    "            # Rounding down skips the ending day\n",
    "            end = end.replace(hour=0, minute=0, second=0, microsecond=0)\n",
    "        else:\n",
    "            end = end.replace(hour=0, minute=0, second=0, microsecond=0) + timedelta(days=1)\n",
    "\n",
    "        prices = []\n",
    "\n",
    "        period_start = start\n",
    "\n",
    "        while period_start < end:\n",
    "            next_week = min(period_start + max_period, end)\n",
    "            hist = ticker.history(start=period_start, end=next_week, interval=interval)\n",
    "\n",
    "            prices.append(hist)\n",
    "\n",
    "            period_start = next_week\n",
    "\n",
    "        full_hist = pd.concat(prices, axis=0)\n",
    "    else:\n",
    "        full_hist = ticker.history(period=\"max\", interval=interval)\n",
    "\n",
    "    start_date = full_hist.index[0].strftime('%Y-%m-%d')\n",
    "    end_date = full_hist.index[-1].strftime('%Y-%m-%d')\n",
    "    full_hist.to_csv(f\"{ticker.ticker}_raw_{interval}_{start_date}_{end_date}.csv\")\n",
    "    return full_hist"
   ],
   "metadata": {
    "collapsed": false,
    "pycharm": {
     "name": "#%%\n"
    }
   }
  },
  {
   "cell_type": "code",
   "execution_count": 11,
   "outputs": [],
   "source": [
    "def download_stock_data(ticker, start=None, end=None, interval=\"1m\"):\n",
    "    now = datetime.now(STOCK_MARKET_TZ)\n",
    "\n",
    "    if end is None:\n",
    "        end = now\n",
    "\n",
    "    # If the market has not yet closed, skip the partial day's data\n",
    "    if end.time() < STOCK_MARKET_CLOSES:\n",
    "        # Rounding down skips the ending day\n",
    "        end = end.replace(hour=0, minute=0, second=0, microsecond=0)\n",
    "    else:\n",
    "        end = end.replace(hour=0, minute=0, second=0, microsecond=0) + timedelta(days=1)\n",
    "\n",
    "    if interval != \"1d\":\n",
    "        # max_period is how much data we can get with one request\n",
    "        # date_range is how far back we can get data from\n",
    "        if interval == \"1m\":\n",
    "            max_period = timedelta(days=7)\n",
    "            date_range = timedelta(days=30)\n",
    "        elif interval == \"2m\":\n",
    "            # Appears to be missing data\n",
    "            max_period = timedelta(days=60)\n",
    "            date_range = timedelta(days=60)\n",
    "        elif interval == \"5m\":\n",
    "            max_period = timedelta(days=60)\n",
    "            date_range = timedelta(days=60)\n",
    "        elif interval == \"15m\":\n",
    "            max_period = timedelta(days=60)\n",
    "            date_range = timedelta(days=60)\n",
    "        elif interval == \"30m\":\n",
    "            max_period = timedelta(days=60)\n",
    "            date_range = timedelta(days=60)\n",
    "        elif interval == \"60m\" or interval == \"1h\":\n",
    "            max_period = timedelta(days=730)\n",
    "            date_range = timedelta(days=730)\n",
    "        else:\n",
    "            raise ValueError(\"Interval has not been tested for max_period and date_range\")\n",
    "\n",
    "        if start is None:\n",
    "            start = now - date_range\n",
    "\n",
    "        # If the market had already opened, skip the partial day's data\n",
    "        if start.time() > STOCK_MARKET_OPENS:\n",
    "            # Rounding up skips the starting day\n",
    "            start = start.replace(hour=0, minute=0, second=0, microsecond=0) + timedelta(days=1)\n",
    "        else:\n",
    "            start = start.replace(hour=0, minute=0, second=0, microsecond=0)\n",
    "\n",
    "        prices = []\n",
    "\n",
    "        period_start = start\n",
    "\n",
    "        while period_start < end:\n",
    "            next_week = min(period_start + max_period, end)\n",
    "            hist = ticker.history(start=period_start, end=next_week, interval=interval)\n",
    "\n",
    "            prices.append(hist)\n",
    "\n",
    "            period_start = next_week\n",
    "\n",
    "        full_hist = pd.concat(prices, axis=0)\n",
    "    else:\n",
    "        full_hist = ticker.history(end=end, interval=interval, period='max')\n",
    "\n",
    "    start_date = full_hist.index[0].strftime('%Y-%m-%d')\n",
    "    end_date = full_hist.index[-1].strftime('%Y-%m-%d')\n",
    "    full_hist.to_csv(f\"{ticker.ticker}_raw_{interval}_{start_date}_{end_date}.csv\")\n",
    "    return full_hist"
   ],
   "metadata": {
    "collapsed": false,
    "pycharm": {
     "name": "#%%\n"
    }
   }
  },
  {
   "cell_type": "code",
   "execution_count": 7,
   "outputs": [],
   "source": [
    "stock_prices = download_stock_data(stock)\n",
    "index_prices = download_stock_data(index)"
   ],
   "metadata": {
    "collapsed": false,
    "pycharm": {
     "name": "#%%\n"
    }
   }
  },
  {
   "cell_type": "code",
   "execution_count": 14,
   "outputs": [],
   "source": [
    "stock_prices = download_stock_data(stock, interval=\"1d\")\n",
    "index_prices = download_stock_data(index, interval=\"1d\")"
   ],
   "metadata": {
    "collapsed": false,
    "pycharm": {
     "name": "#%%\n"
    }
   }
  },
  {
   "cell_type": "code",
   "execution_count": 15,
   "outputs": [
    {
     "data": {
      "text/plain": "                   Open         High         Low        Close    Volume  \\\nDate                                                                      \n2010-06-29     3.800000     5.000000    3.508000     4.778000  93831500   \n2010-06-30     5.158000     6.084000    4.660000     4.766000  85935500   \n2010-07-01     5.000000     5.184000    4.054000     4.392000  41094000   \n2010-07-02     4.600000     4.620000    3.742000     3.840000  25699000   \n2010-07-06     4.000000     4.000000    3.166000     3.222000  34334500   \n...                 ...          ...         ...          ...       ...   \n2022-04-18   989.030029  1014.919983  973.409973  1004.289978  17238400   \n2022-04-19  1005.059998  1034.939941  995.330017  1028.150024  16615900   \n2022-04-20  1030.000000  1034.000000  975.250000   977.200012  23570400   \n2022-04-21  1074.729980  1092.219971  996.419983  1008.780029  35138800   \n2022-04-22  1014.909973  1034.849976  994.000000  1005.049988  23181600   \n\n            Dividends  Stock Splits  \nDate                                 \n2010-06-29          0           0.0  \n2010-06-30          0           0.0  \n2010-07-01          0           0.0  \n2010-07-02          0           0.0  \n2010-07-06          0           0.0  \n...               ...           ...  \n2022-04-18          0           0.0  \n2022-04-19          0           0.0  \n2022-04-20          0           0.0  \n2022-04-21          0           0.0  \n2022-04-22          0           0.0  \n\n[2976 rows x 7 columns]",
      "text/html": "<div>\n<style scoped>\n    .dataframe tbody tr th:only-of-type {\n        vertical-align: middle;\n    }\n\n    .dataframe tbody tr th {\n        vertical-align: top;\n    }\n\n    .dataframe thead th {\n        text-align: right;\n    }\n</style>\n<table border=\"1\" class=\"dataframe\">\n  <thead>\n    <tr style=\"text-align: right;\">\n      <th></th>\n      <th>Open</th>\n      <th>High</th>\n      <th>Low</th>\n      <th>Close</th>\n      <th>Volume</th>\n      <th>Dividends</th>\n      <th>Stock Splits</th>\n    </tr>\n    <tr>\n      <th>Date</th>\n      <th></th>\n      <th></th>\n      <th></th>\n      <th></th>\n      <th></th>\n      <th></th>\n      <th></th>\n    </tr>\n  </thead>\n  <tbody>\n    <tr>\n      <th>2010-06-29</th>\n      <td>3.800000</td>\n      <td>5.000000</td>\n      <td>3.508000</td>\n      <td>4.778000</td>\n      <td>93831500</td>\n      <td>0</td>\n      <td>0.0</td>\n    </tr>\n    <tr>\n      <th>2010-06-30</th>\n      <td>5.158000</td>\n      <td>6.084000</td>\n      <td>4.660000</td>\n      <td>4.766000</td>\n      <td>85935500</td>\n      <td>0</td>\n      <td>0.0</td>\n    </tr>\n    <tr>\n      <th>2010-07-01</th>\n      <td>5.000000</td>\n      <td>5.184000</td>\n      <td>4.054000</td>\n      <td>4.392000</td>\n      <td>41094000</td>\n      <td>0</td>\n      <td>0.0</td>\n    </tr>\n    <tr>\n      <th>2010-07-02</th>\n      <td>4.600000</td>\n      <td>4.620000</td>\n      <td>3.742000</td>\n      <td>3.840000</td>\n      <td>25699000</td>\n      <td>0</td>\n      <td>0.0</td>\n    </tr>\n    <tr>\n      <th>2010-07-06</th>\n      <td>4.000000</td>\n      <td>4.000000</td>\n      <td>3.166000</td>\n      <td>3.222000</td>\n      <td>34334500</td>\n      <td>0</td>\n      <td>0.0</td>\n    </tr>\n    <tr>\n      <th>...</th>\n      <td>...</td>\n      <td>...</td>\n      <td>...</td>\n      <td>...</td>\n      <td>...</td>\n      <td>...</td>\n      <td>...</td>\n    </tr>\n    <tr>\n      <th>2022-04-18</th>\n      <td>989.030029</td>\n      <td>1014.919983</td>\n      <td>973.409973</td>\n      <td>1004.289978</td>\n      <td>17238400</td>\n      <td>0</td>\n      <td>0.0</td>\n    </tr>\n    <tr>\n      <th>2022-04-19</th>\n      <td>1005.059998</td>\n      <td>1034.939941</td>\n      <td>995.330017</td>\n      <td>1028.150024</td>\n      <td>16615900</td>\n      <td>0</td>\n      <td>0.0</td>\n    </tr>\n    <tr>\n      <th>2022-04-20</th>\n      <td>1030.000000</td>\n      <td>1034.000000</td>\n      <td>975.250000</td>\n      <td>977.200012</td>\n      <td>23570400</td>\n      <td>0</td>\n      <td>0.0</td>\n    </tr>\n    <tr>\n      <th>2022-04-21</th>\n      <td>1074.729980</td>\n      <td>1092.219971</td>\n      <td>996.419983</td>\n      <td>1008.780029</td>\n      <td>35138800</td>\n      <td>0</td>\n      <td>0.0</td>\n    </tr>\n    <tr>\n      <th>2022-04-22</th>\n      <td>1014.909973</td>\n      <td>1034.849976</td>\n      <td>994.000000</td>\n      <td>1005.049988</td>\n      <td>23181600</td>\n      <td>0</td>\n      <td>0.0</td>\n    </tr>\n  </tbody>\n</table>\n<p>2976 rows × 7 columns</p>\n</div>"
     },
     "execution_count": 15,
     "metadata": {},
     "output_type": "execute_result"
    }
   ],
   "source": [
    "stock_prices"
   ],
   "metadata": {
    "collapsed": false,
    "pycharm": {
     "name": "#%%\n"
    }
   }
  },
  {
   "cell_type": "code",
   "execution_count": 10,
   "outputs": [
    {
     "data": {
      "text/plain": "                   Open         High          Low        Close    Volume  \\\nDate                                                                       \n2022-03-23   979.940002  1040.699951   976.400024   999.109985  40225400   \n2022-03-24  1009.729980  1024.489990   988.799988  1013.919983  22973600   \n2022-03-25  1008.000000  1021.799988   997.320007  1010.640015  20677200   \n2022-03-28  1065.099976  1097.880005  1053.599976  1091.839966  34168700   \n2022-03-29  1107.989990  1114.770020  1073.109985  1099.569946  24538300   \n2022-03-30  1091.170044  1113.949951  1084.000000  1093.989990  19955000   \n2022-03-31  1094.569946  1103.140015  1076.640015  1077.599976  16330900   \n2022-04-01  1081.150024  1094.750000  1066.640015  1084.589966  18012900   \n2022-04-04  1089.380005  1149.910034  1072.530029  1145.449951  27345300   \n2022-04-05  1136.300049  1152.869995  1087.300049  1091.260010  26691700   \n2022-04-06  1073.469971  1079.000000  1027.699951  1045.760010  29782800   \n2022-04-07  1052.390015  1076.589966  1021.539978  1057.260010  26482400   \n2022-04-08  1043.209961  1048.439941  1022.440002  1025.489990  18293300   \n2022-04-11   980.400024  1008.469971   974.640015   975.929993  19785700   \n2022-04-12   997.640015  1021.190002   976.599976   986.950012  21992000   \n2022-04-13   981.080017  1026.239990   973.099976  1022.369995  18373700   \n2022-04-14   999.289978  1012.710022   982.190002   985.000000  19444000   \n2022-04-18   989.030029  1014.919983   973.409973  1004.289978  17238400   \n2022-04-19  1005.059998  1034.939941   995.330017  1028.150024  16615900   \n2022-04-20  1030.000000  1034.000000   975.250000   977.200012  23570400   \n2022-04-21  1074.729980  1092.219971   996.419983  1008.780029  35138800   \n2022-04-22  1014.909973  1034.849976   994.000000  1005.049988  23181600   \n\n            Dividends  Stock Splits  \nDate                                 \n2022-03-23          0             0  \n2022-03-24          0             0  \n2022-03-25          0             0  \n2022-03-28          0             0  \n2022-03-29          0             0  \n2022-03-30          0             0  \n2022-03-31          0             0  \n2022-04-01          0             0  \n2022-04-04          0             0  \n2022-04-05          0             0  \n2022-04-06          0             0  \n2022-04-07          0             0  \n2022-04-08          0             0  \n2022-04-11          0             0  \n2022-04-12          0             0  \n2022-04-13          0             0  \n2022-04-14          0             0  \n2022-04-18          0             0  \n2022-04-19          0             0  \n2022-04-20          0             0  \n2022-04-21          0             0  \n2022-04-22          0             0  ",
      "text/html": "<div>\n<style scoped>\n    .dataframe tbody tr th:only-of-type {\n        vertical-align: middle;\n    }\n\n    .dataframe tbody tr th {\n        vertical-align: top;\n    }\n\n    .dataframe thead th {\n        text-align: right;\n    }\n</style>\n<table border=\"1\" class=\"dataframe\">\n  <thead>\n    <tr style=\"text-align: right;\">\n      <th></th>\n      <th>Open</th>\n      <th>High</th>\n      <th>Low</th>\n      <th>Close</th>\n      <th>Volume</th>\n      <th>Dividends</th>\n      <th>Stock Splits</th>\n    </tr>\n    <tr>\n      <th>Date</th>\n      <th></th>\n      <th></th>\n      <th></th>\n      <th></th>\n      <th></th>\n      <th></th>\n      <th></th>\n    </tr>\n  </thead>\n  <tbody>\n    <tr>\n      <th>2022-03-23</th>\n      <td>979.940002</td>\n      <td>1040.699951</td>\n      <td>976.400024</td>\n      <td>999.109985</td>\n      <td>40225400</td>\n      <td>0</td>\n      <td>0</td>\n    </tr>\n    <tr>\n      <th>2022-03-24</th>\n      <td>1009.729980</td>\n      <td>1024.489990</td>\n      <td>988.799988</td>\n      <td>1013.919983</td>\n      <td>22973600</td>\n      <td>0</td>\n      <td>0</td>\n    </tr>\n    <tr>\n      <th>2022-03-25</th>\n      <td>1008.000000</td>\n      <td>1021.799988</td>\n      <td>997.320007</td>\n      <td>1010.640015</td>\n      <td>20677200</td>\n      <td>0</td>\n      <td>0</td>\n    </tr>\n    <tr>\n      <th>2022-03-28</th>\n      <td>1065.099976</td>\n      <td>1097.880005</td>\n      <td>1053.599976</td>\n      <td>1091.839966</td>\n      <td>34168700</td>\n      <td>0</td>\n      <td>0</td>\n    </tr>\n    <tr>\n      <th>2022-03-29</th>\n      <td>1107.989990</td>\n      <td>1114.770020</td>\n      <td>1073.109985</td>\n      <td>1099.569946</td>\n      <td>24538300</td>\n      <td>0</td>\n      <td>0</td>\n    </tr>\n    <tr>\n      <th>2022-03-30</th>\n      <td>1091.170044</td>\n      <td>1113.949951</td>\n      <td>1084.000000</td>\n      <td>1093.989990</td>\n      <td>19955000</td>\n      <td>0</td>\n      <td>0</td>\n    </tr>\n    <tr>\n      <th>2022-03-31</th>\n      <td>1094.569946</td>\n      <td>1103.140015</td>\n      <td>1076.640015</td>\n      <td>1077.599976</td>\n      <td>16330900</td>\n      <td>0</td>\n      <td>0</td>\n    </tr>\n    <tr>\n      <th>2022-04-01</th>\n      <td>1081.150024</td>\n      <td>1094.750000</td>\n      <td>1066.640015</td>\n      <td>1084.589966</td>\n      <td>18012900</td>\n      <td>0</td>\n      <td>0</td>\n    </tr>\n    <tr>\n      <th>2022-04-04</th>\n      <td>1089.380005</td>\n      <td>1149.910034</td>\n      <td>1072.530029</td>\n      <td>1145.449951</td>\n      <td>27345300</td>\n      <td>0</td>\n      <td>0</td>\n    </tr>\n    <tr>\n      <th>2022-04-05</th>\n      <td>1136.300049</td>\n      <td>1152.869995</td>\n      <td>1087.300049</td>\n      <td>1091.260010</td>\n      <td>26691700</td>\n      <td>0</td>\n      <td>0</td>\n    </tr>\n    <tr>\n      <th>2022-04-06</th>\n      <td>1073.469971</td>\n      <td>1079.000000</td>\n      <td>1027.699951</td>\n      <td>1045.760010</td>\n      <td>29782800</td>\n      <td>0</td>\n      <td>0</td>\n    </tr>\n    <tr>\n      <th>2022-04-07</th>\n      <td>1052.390015</td>\n      <td>1076.589966</td>\n      <td>1021.539978</td>\n      <td>1057.260010</td>\n      <td>26482400</td>\n      <td>0</td>\n      <td>0</td>\n    </tr>\n    <tr>\n      <th>2022-04-08</th>\n      <td>1043.209961</td>\n      <td>1048.439941</td>\n      <td>1022.440002</td>\n      <td>1025.489990</td>\n      <td>18293300</td>\n      <td>0</td>\n      <td>0</td>\n    </tr>\n    <tr>\n      <th>2022-04-11</th>\n      <td>980.400024</td>\n      <td>1008.469971</td>\n      <td>974.640015</td>\n      <td>975.929993</td>\n      <td>19785700</td>\n      <td>0</td>\n      <td>0</td>\n    </tr>\n    <tr>\n      <th>2022-04-12</th>\n      <td>997.640015</td>\n      <td>1021.190002</td>\n      <td>976.599976</td>\n      <td>986.950012</td>\n      <td>21992000</td>\n      <td>0</td>\n      <td>0</td>\n    </tr>\n    <tr>\n      <th>2022-04-13</th>\n      <td>981.080017</td>\n      <td>1026.239990</td>\n      <td>973.099976</td>\n      <td>1022.369995</td>\n      <td>18373700</td>\n      <td>0</td>\n      <td>0</td>\n    </tr>\n    <tr>\n      <th>2022-04-14</th>\n      <td>999.289978</td>\n      <td>1012.710022</td>\n      <td>982.190002</td>\n      <td>985.000000</td>\n      <td>19444000</td>\n      <td>0</td>\n      <td>0</td>\n    </tr>\n    <tr>\n      <th>2022-04-18</th>\n      <td>989.030029</td>\n      <td>1014.919983</td>\n      <td>973.409973</td>\n      <td>1004.289978</td>\n      <td>17238400</td>\n      <td>0</td>\n      <td>0</td>\n    </tr>\n    <tr>\n      <th>2022-04-19</th>\n      <td>1005.059998</td>\n      <td>1034.939941</td>\n      <td>995.330017</td>\n      <td>1028.150024</td>\n      <td>16615900</td>\n      <td>0</td>\n      <td>0</td>\n    </tr>\n    <tr>\n      <th>2022-04-20</th>\n      <td>1030.000000</td>\n      <td>1034.000000</td>\n      <td>975.250000</td>\n      <td>977.200012</td>\n      <td>23570400</td>\n      <td>0</td>\n      <td>0</td>\n    </tr>\n    <tr>\n      <th>2022-04-21</th>\n      <td>1074.729980</td>\n      <td>1092.219971</td>\n      <td>996.419983</td>\n      <td>1008.780029</td>\n      <td>35138800</td>\n      <td>0</td>\n      <td>0</td>\n    </tr>\n    <tr>\n      <th>2022-04-22</th>\n      <td>1014.909973</td>\n      <td>1034.849976</td>\n      <td>994.000000</td>\n      <td>1005.049988</td>\n      <td>23181600</td>\n      <td>0</td>\n      <td>0</td>\n    </tr>\n  </tbody>\n</table>\n</div>"
     },
     "execution_count": 10,
     "metadata": {},
     "output_type": "execute_result"
    }
   ],
   "source": [
    "full_hist = stock.history(interval=\"1d\")\n",
    "full_hist"
   ],
   "metadata": {
    "collapsed": false,
    "pycharm": {
     "name": "#%%\n"
    }
   }
  },
  {
   "cell_type": "code",
   "execution_count": 35,
   "outputs": [
    {
     "data": {
      "text/plain": "                                           Open       High        Low  \\\n           Datetime                                                     \n2022-02-25 2022-02-25 09:30:00-05:00  50.070000  50.509998  50.070000   \n           2022-02-25 09:31:00-05:00  50.439999  50.439999  50.439999   \n           2022-02-25 09:32:00-05:00  50.426249  50.426249  50.424999   \n           2022-02-25 09:33:00-05:00  50.412499  50.412499  50.409999   \n           2022-02-25 09:34:00-05:00  50.398750  50.398750  50.394999   \n...                                         ...        ...        ...   \n2022-03-07 2022-03-07 15:56:00-05:00  48.570000  48.590000  48.570000   \n           2022-03-07 15:57:00-05:00  48.590000  48.590000  48.570000   \n           2022-03-07 15:58:00-05:00  48.599998  48.599998  48.570000   \n           2022-03-07 15:59:00-05:00  48.619999  48.625000  48.560001   \n           2022-03-07 16:00:00-05:00  48.549999  48.549999  48.549999   \n\n                                          Close    Volume  Dividends  \\\n           Datetime                                                    \n2022-02-25 2022-02-25 09:30:00-05:00  50.509998  7251.000        0.0   \n           2022-02-25 09:31:00-05:00  50.439999   315.000        0.0   \n           2022-02-25 09:32:00-05:00  50.426249   440.125        0.0   \n           2022-02-25 09:33:00-05:00  50.412499   565.250        0.0   \n           2022-02-25 09:34:00-05:00  50.398750   690.375        0.0   \n...                                         ...       ...        ...   \n2022-03-07 2022-03-07 15:56:00-05:00  48.580002  1097.000        0.0   \n           2022-03-07 15:57:00-05:00  48.570000   769.000        0.0   \n           2022-03-07 15:58:00-05:00  48.570000  2933.000        0.0   \n           2022-03-07 15:59:00-05:00  48.570000  3821.000        0.0   \n           2022-03-07 16:00:00-05:00  48.549999     0.000        0.0   \n\n                                      Stock Splits  \n           Datetime                                 \n2022-02-25 2022-02-25 09:30:00-05:00           0.0  \n           2022-02-25 09:31:00-05:00           0.0  \n           2022-02-25 09:32:00-05:00           0.0  \n           2022-02-25 09:33:00-05:00           0.0  \n           2022-02-25 09:34:00-05:00           0.0  \n...                                            ...  \n2022-03-07 2022-03-07 15:56:00-05:00           0.0  \n           2022-03-07 15:57:00-05:00           0.0  \n           2022-03-07 15:58:00-05:00           0.0  \n           2022-03-07 15:59:00-05:00           0.0  \n           2022-03-07 16:00:00-05:00           0.0  \n\n[2731 rows x 7 columns]",
      "text/html": "<div>\n<style scoped>\n    .dataframe tbody tr th:only-of-type {\n        vertical-align: middle;\n    }\n\n    .dataframe tbody tr th {\n        vertical-align: top;\n    }\n\n    .dataframe thead th {\n        text-align: right;\n    }\n</style>\n<table border=\"1\" class=\"dataframe\">\n  <thead>\n    <tr style=\"text-align: right;\">\n      <th></th>\n      <th></th>\n      <th>Open</th>\n      <th>High</th>\n      <th>Low</th>\n      <th>Close</th>\n      <th>Volume</th>\n      <th>Dividends</th>\n      <th>Stock Splits</th>\n    </tr>\n    <tr>\n      <th></th>\n      <th>Datetime</th>\n      <th></th>\n      <th></th>\n      <th></th>\n      <th></th>\n      <th></th>\n      <th></th>\n      <th></th>\n    </tr>\n  </thead>\n  <tbody>\n    <tr>\n      <th rowspan=\"5\" valign=\"top\">2022-02-25</th>\n      <th>2022-02-25 09:30:00-05:00</th>\n      <td>50.070000</td>\n      <td>50.509998</td>\n      <td>50.070000</td>\n      <td>50.509998</td>\n      <td>7251.000</td>\n      <td>0.0</td>\n      <td>0.0</td>\n    </tr>\n    <tr>\n      <th>2022-02-25 09:31:00-05:00</th>\n      <td>50.439999</td>\n      <td>50.439999</td>\n      <td>50.439999</td>\n      <td>50.439999</td>\n      <td>315.000</td>\n      <td>0.0</td>\n      <td>0.0</td>\n    </tr>\n    <tr>\n      <th>2022-02-25 09:32:00-05:00</th>\n      <td>50.426249</td>\n      <td>50.426249</td>\n      <td>50.424999</td>\n      <td>50.426249</td>\n      <td>440.125</td>\n      <td>0.0</td>\n      <td>0.0</td>\n    </tr>\n    <tr>\n      <th>2022-02-25 09:33:00-05:00</th>\n      <td>50.412499</td>\n      <td>50.412499</td>\n      <td>50.409999</td>\n      <td>50.412499</td>\n      <td>565.250</td>\n      <td>0.0</td>\n      <td>0.0</td>\n    </tr>\n    <tr>\n      <th>2022-02-25 09:34:00-05:00</th>\n      <td>50.398750</td>\n      <td>50.398750</td>\n      <td>50.394999</td>\n      <td>50.398750</td>\n      <td>690.375</td>\n      <td>0.0</td>\n      <td>0.0</td>\n    </tr>\n    <tr>\n      <th>...</th>\n      <th>...</th>\n      <td>...</td>\n      <td>...</td>\n      <td>...</td>\n      <td>...</td>\n      <td>...</td>\n      <td>...</td>\n      <td>...</td>\n    </tr>\n    <tr>\n      <th rowspan=\"5\" valign=\"top\">2022-03-07</th>\n      <th>2022-03-07 15:56:00-05:00</th>\n      <td>48.570000</td>\n      <td>48.590000</td>\n      <td>48.570000</td>\n      <td>48.580002</td>\n      <td>1097.000</td>\n      <td>0.0</td>\n      <td>0.0</td>\n    </tr>\n    <tr>\n      <th>2022-03-07 15:57:00-05:00</th>\n      <td>48.590000</td>\n      <td>48.590000</td>\n      <td>48.570000</td>\n      <td>48.570000</td>\n      <td>769.000</td>\n      <td>0.0</td>\n      <td>0.0</td>\n    </tr>\n    <tr>\n      <th>2022-03-07 15:58:00-05:00</th>\n      <td>48.599998</td>\n      <td>48.599998</td>\n      <td>48.570000</td>\n      <td>48.570000</td>\n      <td>2933.000</td>\n      <td>0.0</td>\n      <td>0.0</td>\n    </tr>\n    <tr>\n      <th>2022-03-07 15:59:00-05:00</th>\n      <td>48.619999</td>\n      <td>48.625000</td>\n      <td>48.560001</td>\n      <td>48.570000</td>\n      <td>3821.000</td>\n      <td>0.0</td>\n      <td>0.0</td>\n    </tr>\n    <tr>\n      <th>2022-03-07 16:00:00-05:00</th>\n      <td>48.549999</td>\n      <td>48.549999</td>\n      <td>48.549999</td>\n      <td>48.549999</td>\n      <td>0.000</td>\n      <td>0.0</td>\n      <td>0.0</td>\n    </tr>\n  </tbody>\n</table>\n<p>2731 rows × 7 columns</p>\n</div>"
     },
     "execution_count": 35,
     "metadata": {},
     "output_type": "execute_result"
    }
   ],
   "source": [
    "# Interpolate missing minutes, but don't interpolate when the market is closed\n",
    "index_prices.groupby([index_prices.index.date]).resample(\"T\").interpolate()"
   ],
   "metadata": {
    "collapsed": false,
    "pycharm": {
     "name": "#%%\n"
    }
   }
  },
  {
   "cell_type": "code",
   "execution_count": 35,
   "outputs": [],
   "source": [],
   "metadata": {
    "collapsed": false,
    "pycharm": {
     "name": "#%%\n"
    }
   }
  },
  {
   "cell_type": "code",
   "execution_count": 36,
   "outputs": [
    {
     "data": {
      "text/plain": "                               Open      High       Low     Close    Volume  \\\nDatetime                                                                      \n2022-02-25 09:30:00-05:00       NaN       NaN       NaN       NaN       NaN   \n2022-02-25 09:31:00-05:00  0.007390 -0.001386  0.007390 -0.001386 -0.956558   \n2022-02-25 09:39:00-05:00 -0.002181 -0.002181 -0.002379 -0.002181  3.177778   \n2022-02-25 09:40:00-05:00  0.000000  0.000993  0.000199  0.000795  2.642857   \n2022-02-25 09:41:00-05:00  0.001192  0.000198  0.001192  0.000397 -0.965791   \n...                             ...       ...       ...       ...       ...   \n2022-03-07 15:56:00-05:00 -0.000206  0.000000  0.000206  0.000000 -0.319901   \n2022-03-07 15:57:00-05:00  0.000412  0.000000  0.000000 -0.000206 -0.298997   \n2022-03-07 15:58:00-05:00  0.000206  0.000206  0.000000  0.000000  2.814044   \n2022-03-07 15:59:00-05:00  0.000412  0.000514 -0.000206  0.000000  0.302762   \n2022-03-07 16:00:00-05:00 -0.001440 -0.001542 -0.000206 -0.000412 -1.000000   \n\n                           Dividends  Stock Splits  \nDatetime                                            \n2022-02-25 09:30:00-05:00        NaN           NaN  \n2022-02-25 09:31:00-05:00        NaN           NaN  \n2022-02-25 09:39:00-05:00        NaN           NaN  \n2022-02-25 09:40:00-05:00        NaN           NaN  \n2022-02-25 09:41:00-05:00        NaN           NaN  \n...                              ...           ...  \n2022-03-07 15:56:00-05:00        NaN           NaN  \n2022-03-07 15:57:00-05:00        NaN           NaN  \n2022-03-07 15:58:00-05:00        NaN           NaN  \n2022-03-07 15:59:00-05:00        NaN           NaN  \n2022-03-07 16:00:00-05:00        NaN           NaN  \n\n[1247 rows x 7 columns]",
      "text/html": "<div>\n<style scoped>\n    .dataframe tbody tr th:only-of-type {\n        vertical-align: middle;\n    }\n\n    .dataframe tbody tr th {\n        vertical-align: top;\n    }\n\n    .dataframe thead th {\n        text-align: right;\n    }\n</style>\n<table border=\"1\" class=\"dataframe\">\n  <thead>\n    <tr style=\"text-align: right;\">\n      <th></th>\n      <th>Open</th>\n      <th>High</th>\n      <th>Low</th>\n      <th>Close</th>\n      <th>Volume</th>\n      <th>Dividends</th>\n      <th>Stock Splits</th>\n    </tr>\n    <tr>\n      <th>Datetime</th>\n      <th></th>\n      <th></th>\n      <th></th>\n      <th></th>\n      <th></th>\n      <th></th>\n      <th></th>\n    </tr>\n  </thead>\n  <tbody>\n    <tr>\n      <th>2022-02-25 09:30:00-05:00</th>\n      <td>NaN</td>\n      <td>NaN</td>\n      <td>NaN</td>\n      <td>NaN</td>\n      <td>NaN</td>\n      <td>NaN</td>\n      <td>NaN</td>\n    </tr>\n    <tr>\n      <th>2022-02-25 09:31:00-05:00</th>\n      <td>0.007390</td>\n      <td>-0.001386</td>\n      <td>0.007390</td>\n      <td>-0.001386</td>\n      <td>-0.956558</td>\n      <td>NaN</td>\n      <td>NaN</td>\n    </tr>\n    <tr>\n      <th>2022-02-25 09:39:00-05:00</th>\n      <td>-0.002181</td>\n      <td>-0.002181</td>\n      <td>-0.002379</td>\n      <td>-0.002181</td>\n      <td>3.177778</td>\n      <td>NaN</td>\n      <td>NaN</td>\n    </tr>\n    <tr>\n      <th>2022-02-25 09:40:00-05:00</th>\n      <td>0.000000</td>\n      <td>0.000993</td>\n      <td>0.000199</td>\n      <td>0.000795</td>\n      <td>2.642857</td>\n      <td>NaN</td>\n      <td>NaN</td>\n    </tr>\n    <tr>\n      <th>2022-02-25 09:41:00-05:00</th>\n      <td>0.001192</td>\n      <td>0.000198</td>\n      <td>0.001192</td>\n      <td>0.000397</td>\n      <td>-0.965791</td>\n      <td>NaN</td>\n      <td>NaN</td>\n    </tr>\n    <tr>\n      <th>...</th>\n      <td>...</td>\n      <td>...</td>\n      <td>...</td>\n      <td>...</td>\n      <td>...</td>\n      <td>...</td>\n      <td>...</td>\n    </tr>\n    <tr>\n      <th>2022-03-07 15:56:00-05:00</th>\n      <td>-0.000206</td>\n      <td>0.000000</td>\n      <td>0.000206</td>\n      <td>0.000000</td>\n      <td>-0.319901</td>\n      <td>NaN</td>\n      <td>NaN</td>\n    </tr>\n    <tr>\n      <th>2022-03-07 15:57:00-05:00</th>\n      <td>0.000412</td>\n      <td>0.000000</td>\n      <td>0.000000</td>\n      <td>-0.000206</td>\n      <td>-0.298997</td>\n      <td>NaN</td>\n      <td>NaN</td>\n    </tr>\n    <tr>\n      <th>2022-03-07 15:58:00-05:00</th>\n      <td>0.000206</td>\n      <td>0.000206</td>\n      <td>0.000000</td>\n      <td>0.000000</td>\n      <td>2.814044</td>\n      <td>NaN</td>\n      <td>NaN</td>\n    </tr>\n    <tr>\n      <th>2022-03-07 15:59:00-05:00</th>\n      <td>0.000412</td>\n      <td>0.000514</td>\n      <td>-0.000206</td>\n      <td>0.000000</td>\n      <td>0.302762</td>\n      <td>NaN</td>\n      <td>NaN</td>\n    </tr>\n    <tr>\n      <th>2022-03-07 16:00:00-05:00</th>\n      <td>-0.001440</td>\n      <td>-0.001542</td>\n      <td>-0.000206</td>\n      <td>-0.000412</td>\n      <td>-1.000000</td>\n      <td>NaN</td>\n      <td>NaN</td>\n    </tr>\n  </tbody>\n</table>\n<p>1247 rows × 7 columns</p>\n</div>"
     },
     "execution_count": 36,
     "metadata": {},
     "output_type": "execute_result"
    }
   ],
   "source": [
    "# Calculate Percentage Change, but not for the first price of the day\n",
    "index_prices.groupby([index_prices.index.date]).pct_change()"
   ],
   "metadata": {
    "collapsed": false,
    "pycharm": {
     "name": "#%%\n"
    }
   }
  },
  {
   "cell_type": "code",
   "execution_count": 37,
   "outputs": [
    {
     "data": {
      "text/plain": "                                          Open      High       Low     Close  \\\n           Datetime                                                            \n2022-02-25 2022-02-25 09:30:00-05:00       NaN       NaN       NaN       NaN   \n           2022-02-25 09:31:00-05:00  0.007390 -0.001386  0.007390 -0.001386   \n           2022-02-25 09:32:00-05:00 -0.000273 -0.000273 -0.000297 -0.000273   \n           2022-02-25 09:33:00-05:00 -0.000273 -0.000273 -0.000297 -0.000273   \n           2022-02-25 09:34:00-05:00 -0.000273 -0.000273 -0.000298 -0.000273   \n...                                        ...       ...       ...       ...   \n2022-03-07 2022-03-07 15:56:00-05:00 -0.000206  0.000000  0.000206  0.000000   \n           2022-03-07 15:57:00-05:00  0.000412  0.000000  0.000000 -0.000206   \n           2022-03-07 15:58:00-05:00  0.000206  0.000206  0.000000  0.000000   \n           2022-03-07 15:59:00-05:00  0.000412  0.000514 -0.000206  0.000000   \n           2022-03-07 16:00:00-05:00 -0.001440 -0.001542 -0.000206 -0.000412   \n\n                                        Volume  Dividends  Stock Splits  \n           Datetime                                                      \n2022-02-25 2022-02-25 09:30:00-05:00       NaN        NaN           NaN  \n           2022-02-25 09:31:00-05:00 -0.956558        NaN           NaN  \n           2022-02-25 09:32:00-05:00  0.397222        NaN           NaN  \n           2022-02-25 09:33:00-05:00  0.284294        NaN           NaN  \n           2022-02-25 09:34:00-05:00  0.221362        NaN           NaN  \n...                                        ...        ...           ...  \n2022-03-07 2022-03-07 15:56:00-05:00 -0.319901        NaN           NaN  \n           2022-03-07 15:57:00-05:00 -0.298997        NaN           NaN  \n           2022-03-07 15:58:00-05:00  2.814044        NaN           NaN  \n           2022-03-07 15:59:00-05:00  0.302762        NaN           NaN  \n           2022-03-07 16:00:00-05:00 -1.000000        NaN           NaN  \n\n[2731 rows x 7 columns]",
      "text/html": "<div>\n<style scoped>\n    .dataframe tbody tr th:only-of-type {\n        vertical-align: middle;\n    }\n\n    .dataframe tbody tr th {\n        vertical-align: top;\n    }\n\n    .dataframe thead th {\n        text-align: right;\n    }\n</style>\n<table border=\"1\" class=\"dataframe\">\n  <thead>\n    <tr style=\"text-align: right;\">\n      <th></th>\n      <th></th>\n      <th>Open</th>\n      <th>High</th>\n      <th>Low</th>\n      <th>Close</th>\n      <th>Volume</th>\n      <th>Dividends</th>\n      <th>Stock Splits</th>\n    </tr>\n    <tr>\n      <th></th>\n      <th>Datetime</th>\n      <th></th>\n      <th></th>\n      <th></th>\n      <th></th>\n      <th></th>\n      <th></th>\n      <th></th>\n    </tr>\n  </thead>\n  <tbody>\n    <tr>\n      <th rowspan=\"5\" valign=\"top\">2022-02-25</th>\n      <th>2022-02-25 09:30:00-05:00</th>\n      <td>NaN</td>\n      <td>NaN</td>\n      <td>NaN</td>\n      <td>NaN</td>\n      <td>NaN</td>\n      <td>NaN</td>\n      <td>NaN</td>\n    </tr>\n    <tr>\n      <th>2022-02-25 09:31:00-05:00</th>\n      <td>0.007390</td>\n      <td>-0.001386</td>\n      <td>0.007390</td>\n      <td>-0.001386</td>\n      <td>-0.956558</td>\n      <td>NaN</td>\n      <td>NaN</td>\n    </tr>\n    <tr>\n      <th>2022-02-25 09:32:00-05:00</th>\n      <td>-0.000273</td>\n      <td>-0.000273</td>\n      <td>-0.000297</td>\n      <td>-0.000273</td>\n      <td>0.397222</td>\n      <td>NaN</td>\n      <td>NaN</td>\n    </tr>\n    <tr>\n      <th>2022-02-25 09:33:00-05:00</th>\n      <td>-0.000273</td>\n      <td>-0.000273</td>\n      <td>-0.000297</td>\n      <td>-0.000273</td>\n      <td>0.284294</td>\n      <td>NaN</td>\n      <td>NaN</td>\n    </tr>\n    <tr>\n      <th>2022-02-25 09:34:00-05:00</th>\n      <td>-0.000273</td>\n      <td>-0.000273</td>\n      <td>-0.000298</td>\n      <td>-0.000273</td>\n      <td>0.221362</td>\n      <td>NaN</td>\n      <td>NaN</td>\n    </tr>\n    <tr>\n      <th>...</th>\n      <th>...</th>\n      <td>...</td>\n      <td>...</td>\n      <td>...</td>\n      <td>...</td>\n      <td>...</td>\n      <td>...</td>\n      <td>...</td>\n    </tr>\n    <tr>\n      <th rowspan=\"5\" valign=\"top\">2022-03-07</th>\n      <th>2022-03-07 15:56:00-05:00</th>\n      <td>-0.000206</td>\n      <td>0.000000</td>\n      <td>0.000206</td>\n      <td>0.000000</td>\n      <td>-0.319901</td>\n      <td>NaN</td>\n      <td>NaN</td>\n    </tr>\n    <tr>\n      <th>2022-03-07 15:57:00-05:00</th>\n      <td>0.000412</td>\n      <td>0.000000</td>\n      <td>0.000000</td>\n      <td>-0.000206</td>\n      <td>-0.298997</td>\n      <td>NaN</td>\n      <td>NaN</td>\n    </tr>\n    <tr>\n      <th>2022-03-07 15:58:00-05:00</th>\n      <td>0.000206</td>\n      <td>0.000206</td>\n      <td>0.000000</td>\n      <td>0.000000</td>\n      <td>2.814044</td>\n      <td>NaN</td>\n      <td>NaN</td>\n    </tr>\n    <tr>\n      <th>2022-03-07 15:59:00-05:00</th>\n      <td>0.000412</td>\n      <td>0.000514</td>\n      <td>-0.000206</td>\n      <td>0.000000</td>\n      <td>0.302762</td>\n      <td>NaN</td>\n      <td>NaN</td>\n    </tr>\n    <tr>\n      <th>2022-03-07 16:00:00-05:00</th>\n      <td>-0.001440</td>\n      <td>-0.001542</td>\n      <td>-0.000206</td>\n      <td>-0.000412</td>\n      <td>-1.000000</td>\n      <td>NaN</td>\n      <td>NaN</td>\n    </tr>\n  </tbody>\n</table>\n<p>2731 rows × 7 columns</p>\n</div>"
     },
     "execution_count": 37,
     "metadata": {},
     "output_type": "execute_result"
    }
   ],
   "source": [
    "# Calculate percent change, even for the missing minutes\n",
    "index_prices.groupby([index_prices.index.date]).resample(\"T\").interpolate().pct_change()"
   ],
   "metadata": {
    "collapsed": false,
    "pycharm": {
     "name": "#%%\n"
    }
   }
  },
  {
   "cell_type": "code",
   "execution_count": 10,
   "outputs": [
    {
     "data": {
      "text/plain": "                               Open      High       Low     Close    Volume  \\\nDatetime                                                                      \n2022-01-24 09:35:00-05:00  0.004670  0.004122  0.006255  0.004122 -0.344786   \n2022-01-24 09:40:00-05:00  0.000581  0.003386  0.003497 -0.000193 -0.522713   \n2022-01-24 09:45:00-05:00  0.001429 -0.002530 -0.003097 -0.003483 -0.633663   \n2022-01-24 09:50:00-05:00 -0.004036 -0.004036 -0.005631 -0.005631  0.509154   \n2022-01-24 09:55:00-05:00 -0.005919 -0.004949 -0.000976 -0.000781  0.920855   \n...                             ...       ...       ...       ...       ...   \n2022-03-23 15:40:00-04:00  0.000000 -0.000621 -0.002073 -0.002279  0.809034   \n2022-03-23 15:45:00-04:00 -0.002073 -0.002279 -0.000623 -0.000727 -0.541162   \n2022-03-23 15:50:00-04:00 -0.000415  0.000519 -0.001247  0.001039  2.609914   \n2022-03-23 15:55:00-04:00 -0.000208  0.000934  0.001248  0.000519  1.528209   \n2022-03-23 16:00:00-04:00  0.001870 -0.000207  0.001870  0.000207 -1.000000   \n\n                           Dividends  Stock Splits  \nDatetime                                            \n2022-01-24 09:35:00-05:00        NaN           NaN  \n2022-01-24 09:40:00-05:00        NaN           NaN  \n2022-01-24 09:45:00-05:00        NaN           NaN  \n2022-01-24 09:50:00-05:00        NaN           NaN  \n2022-01-24 09:55:00-05:00        NaN           NaN  \n...                              ...           ...  \n2022-03-23 15:40:00-04:00        NaN           NaN  \n2022-03-23 15:45:00-04:00        NaN           NaN  \n2022-03-23 15:50:00-04:00        NaN           NaN  \n2022-03-23 15:55:00-04:00        NaN           NaN  \n2022-03-23 16:00:00-04:00        NaN           NaN  \n\n[2939 rows x 7 columns]",
      "text/html": "<div>\n<style scoped>\n    .dataframe tbody tr th:only-of-type {\n        vertical-align: middle;\n    }\n\n    .dataframe tbody tr th {\n        vertical-align: top;\n    }\n\n    .dataframe thead th {\n        text-align: right;\n    }\n</style>\n<table border=\"1\" class=\"dataframe\">\n  <thead>\n    <tr style=\"text-align: right;\">\n      <th></th>\n      <th>Open</th>\n      <th>High</th>\n      <th>Low</th>\n      <th>Close</th>\n      <th>Volume</th>\n      <th>Dividends</th>\n      <th>Stock Splits</th>\n    </tr>\n    <tr>\n      <th>Datetime</th>\n      <th></th>\n      <th></th>\n      <th></th>\n      <th></th>\n      <th></th>\n      <th></th>\n      <th></th>\n    </tr>\n  </thead>\n  <tbody>\n    <tr>\n      <th>2022-01-24 09:35:00-05:00</th>\n      <td>0.004670</td>\n      <td>0.004122</td>\n      <td>0.006255</td>\n      <td>0.004122</td>\n      <td>-0.344786</td>\n      <td>NaN</td>\n      <td>NaN</td>\n    </tr>\n    <tr>\n      <th>2022-01-24 09:40:00-05:00</th>\n      <td>0.000581</td>\n      <td>0.003386</td>\n      <td>0.003497</td>\n      <td>-0.000193</td>\n      <td>-0.522713</td>\n      <td>NaN</td>\n      <td>NaN</td>\n    </tr>\n    <tr>\n      <th>2022-01-24 09:45:00-05:00</th>\n      <td>0.001429</td>\n      <td>-0.002530</td>\n      <td>-0.003097</td>\n      <td>-0.003483</td>\n      <td>-0.633663</td>\n      <td>NaN</td>\n      <td>NaN</td>\n    </tr>\n    <tr>\n      <th>2022-01-24 09:50:00-05:00</th>\n      <td>-0.004036</td>\n      <td>-0.004036</td>\n      <td>-0.005631</td>\n      <td>-0.005631</td>\n      <td>0.509154</td>\n      <td>NaN</td>\n      <td>NaN</td>\n    </tr>\n    <tr>\n      <th>2022-01-24 09:55:00-05:00</th>\n      <td>-0.005919</td>\n      <td>-0.004949</td>\n      <td>-0.000976</td>\n      <td>-0.000781</td>\n      <td>0.920855</td>\n      <td>NaN</td>\n      <td>NaN</td>\n    </tr>\n    <tr>\n      <th>...</th>\n      <td>...</td>\n      <td>...</td>\n      <td>...</td>\n      <td>...</td>\n      <td>...</td>\n      <td>...</td>\n      <td>...</td>\n    </tr>\n    <tr>\n      <th>2022-03-23 15:40:00-04:00</th>\n      <td>0.000000</td>\n      <td>-0.000621</td>\n      <td>-0.002073</td>\n      <td>-0.002279</td>\n      <td>0.809034</td>\n      <td>NaN</td>\n      <td>NaN</td>\n    </tr>\n    <tr>\n      <th>2022-03-23 15:45:00-04:00</th>\n      <td>-0.002073</td>\n      <td>-0.002279</td>\n      <td>-0.000623</td>\n      <td>-0.000727</td>\n      <td>-0.541162</td>\n      <td>NaN</td>\n      <td>NaN</td>\n    </tr>\n    <tr>\n      <th>2022-03-23 15:50:00-04:00</th>\n      <td>-0.000415</td>\n      <td>0.000519</td>\n      <td>-0.001247</td>\n      <td>0.001039</td>\n      <td>2.609914</td>\n      <td>NaN</td>\n      <td>NaN</td>\n    </tr>\n    <tr>\n      <th>2022-03-23 15:55:00-04:00</th>\n      <td>-0.000208</td>\n      <td>0.000934</td>\n      <td>0.001248</td>\n      <td>0.000519</td>\n      <td>1.528209</td>\n      <td>NaN</td>\n      <td>NaN</td>\n    </tr>\n    <tr>\n      <th>2022-03-23 16:00:00-04:00</th>\n      <td>0.001870</td>\n      <td>-0.000207</td>\n      <td>0.001870</td>\n      <td>0.000207</td>\n      <td>-1.000000</td>\n      <td>NaN</td>\n      <td>NaN</td>\n    </tr>\n  </tbody>\n</table>\n<p>2939 rows × 7 columns</p>\n</div>"
     },
     "execution_count": 10,
     "metadata": {},
     "output_type": "execute_result"
    }
   ],
   "source": [
    "index_prices.groupby([index_prices.index.date]).pct_change().dropna(how='all')"
   ],
   "metadata": {
    "collapsed": false,
    "pycharm": {
     "name": "#%%\n"
    }
   }
  },
  {
   "cell_type": "code",
   "execution_count": 16,
   "outputs": [],
   "source": [
    "beta = pd.read_json(f\"https://widget3.zacks.com/data/chart/json/{TICKER}/beta/www.zacks.com?\", storage_options={'user-agent': 'Mozilla/5.0 (Windows NT 10.0; Win64; x64) AppleWebKit/537.36 (KHTML, like Gecko) Chrome/86.0.4240.75 Safari/537.36'}).sort_index()\n",
    "start_date = beta.index[0].strftime('%Y-%m-%d')\n",
    "end_date = beta.index[-1].strftime('%Y-%m-%d')\n",
    "beta.to_csv(f\"{TICKER}_beta_{start_date}_{end_date}.csv\")"
   ],
   "metadata": {
    "collapsed": false,
    "pycharm": {
     "name": "#%%\n"
    }
   }
  },
  {
   "cell_type": "code",
   "execution_count": 14,
   "outputs": [],
   "source": [
    "stock_prices.to_csv('test.csv')"
   ],
   "metadata": {
    "collapsed": false,
    "pycharm": {
     "name": "#%%\n"
    }
   }
  },
  {
   "cell_type": "code",
   "execution_count": 16,
   "outputs": [
    {
     "data": {
      "text/plain": "<DstTzInfo 'America/New_York' LMT-1 day, 19:04:00 STD>"
     },
     "execution_count": 16,
     "metadata": {},
     "output_type": "execute_result"
    }
   ],
   "source": [],
   "metadata": {
    "collapsed": false,
    "pycharm": {
     "name": "#%%\n"
    }
   }
  },
  {
   "cell_type": "code",
   "execution_count": 17,
   "outputs": [
    {
     "data": {
      "text/plain": "              beta\n2012-03-31  0.1019\n2012-04-30  0.1775\n2012-05-31  0.3636\n2012-06-30  0.3792\n2012-07-31  0.3809\n...            ...\n2021-11-30  2.0310\n2021-12-31  1.9780\n2022-01-31  2.0000\n2022-02-28  2.0440\n2022-03-31  2.0760\n\n[121 rows x 1 columns]",
      "text/html": "<div>\n<style scoped>\n    .dataframe tbody tr th:only-of-type {\n        vertical-align: middle;\n    }\n\n    .dataframe tbody tr th {\n        vertical-align: top;\n    }\n\n    .dataframe thead th {\n        text-align: right;\n    }\n</style>\n<table border=\"1\" class=\"dataframe\">\n  <thead>\n    <tr style=\"text-align: right;\">\n      <th></th>\n      <th>beta</th>\n    </tr>\n  </thead>\n  <tbody>\n    <tr>\n      <th>2012-03-31</th>\n      <td>0.1019</td>\n    </tr>\n    <tr>\n      <th>2012-04-30</th>\n      <td>0.1775</td>\n    </tr>\n    <tr>\n      <th>2012-05-31</th>\n      <td>0.3636</td>\n    </tr>\n    <tr>\n      <th>2012-06-30</th>\n      <td>0.3792</td>\n    </tr>\n    <tr>\n      <th>2012-07-31</th>\n      <td>0.3809</td>\n    </tr>\n    <tr>\n      <th>...</th>\n      <td>...</td>\n    </tr>\n    <tr>\n      <th>2021-11-30</th>\n      <td>2.0310</td>\n    </tr>\n    <tr>\n      <th>2021-12-31</th>\n      <td>1.9780</td>\n    </tr>\n    <tr>\n      <th>2022-01-31</th>\n      <td>2.0000</td>\n    </tr>\n    <tr>\n      <th>2022-02-28</th>\n      <td>2.0440</td>\n    </tr>\n    <tr>\n      <th>2022-03-31</th>\n      <td>2.0760</td>\n    </tr>\n  </tbody>\n</table>\n<p>121 rows × 1 columns</p>\n</div>"
     },
     "execution_count": 17,
     "metadata": {},
     "output_type": "execute_result"
    }
   ],
   "source": [
    "beta"
   ],
   "metadata": {
    "collapsed": false,
    "pycharm": {
     "name": "#%%\n"
    }
   }
  }
 ],
 "metadata": {
  "kernelspec": {
   "display_name": "Python 3",
   "language": "python",
   "name": "python3"
  },
  "language_info": {
   "codemirror_mode": {
    "name": "ipython",
    "version": 2
   },
   "file_extension": ".py",
   "mimetype": "text/x-python",
   "name": "python",
   "nbconvert_exporter": "python",
   "pygments_lexer": "ipython2",
   "version": "2.7.6"
  }
 },
 "nbformat": 4,
 "nbformat_minor": 0
}